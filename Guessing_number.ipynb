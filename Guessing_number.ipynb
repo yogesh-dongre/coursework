{
 "cells": [
  {
   "cell_type": "code",
   "execution_count": null,
   "metadata": {},
   "outputs": [],
   "source": [
    "import random\n",
    "\n",
    "numberofGames = 0\n",
    "number = random.randint(1,25)\n",
    "\n",
    "\n",
    "name = input(\"What is your Name? \")\n",
    "\n",
    "games= input(name + \", How many games would you like to play?\")\n",
    "print(name + \"you have\", games, \"chances to select a number between 1 and 25\"  )\n",
    "while numberofGuesses < games:\n",
    "    guess = input(\"Take a guess \")\n",
    "    guess = int(guess)\n",
    "    numberofGames = numberofGames + 1;\n",
    "    gamesLeft = int(games) - numberofGames;\n",
    "\n",
    "    if guess < number:\n",
    "        gamessLeft=str(gamesLeft)\n",
    "        print(\"Your guess is too low! You have \" + gamesLeft + \" games left\")\n",
    "\n",
    "    elif guess > number:\n",
    "        gamesLeft=str(gamesLeft)\n",
    "        print(\"Your guess is too high! You have \" + gamesLeft + \" games left\")\n",
    "\n",
    "    else:\n",
    "        if guess==number:\n",
    "            numberofGames=str(numberofGames)\n",
    "            print(\"Good job! You guessed the number in \" + numberofGames + \" tries :)\")\n",
    "                        \n",
    "        else:\n",
    "            number=str(number)\n",
    "            print(\"Sorry. The number I was thinking of was \" + number + \" :)\")\n"
   ]
  },
  {
   "cell_type": "code",
   "execution_count": null,
   "metadata": {},
   "outputs": [],
   "source": []
  },
  {
   "cell_type": "code",
   "execution_count": null,
   "metadata": {},
   "outputs": [],
   "source": []
  }
 ],
 "metadata": {
  "kernelspec": {
   "display_name": "Python 3",
   "language": "python",
   "name": "python3"
  },
  "language_info": {
   "codemirror_mode": {
    "name": "ipython",
    "version": 3
   },
   "file_extension": ".py",
   "mimetype": "text/x-python",
   "name": "python",
   "nbconvert_exporter": "python",
   "pygments_lexer": "ipython3",
   "version": "3.7.3"
  }
 },
 "nbformat": 4,
 "nbformat_minor": 2
}
